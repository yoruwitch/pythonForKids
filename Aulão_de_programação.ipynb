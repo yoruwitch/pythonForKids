{
  "cells": [
    {
      "cell_type": "markdown",
      "metadata": {
        "colab_type": "text",
        "id": "view-in-github"
      },
      "source": [
        "<a href=\"https://colab.research.google.com/github/yoruwitch/pythonForKids/blob/main/Aul%C3%A3o_de_programa%C3%A7%C3%A3o.ipynb\" target=\"_parent\"><img src=\"https://colab.research.google.com/assets/colab-badge.svg\" alt=\"Open In Colab\"/></a>"
      ]
    },
    {
      "cell_type": "markdown",
      "metadata": {
        "id": "aJP0N4DNhA2A"
      },
      "source": [
        "# Os primeiros passos da programação"
      ]
    },
    {
      "cell_type": "markdown",
      "metadata": {
        "id": "VBBE3xh3hJXk"
      },
      "source": [
        "Vamos começar os primeiros passos com a linguagem Python. Após o sinal de igual, digite seu nome dentro das aspas."
      ]
    },
    {
      "cell_type": "code",
      "execution_count": null,
      "metadata": {
        "id": "vlYTZMJ--_Rs"
      },
      "outputs": [],
      "source": [
        "nome = \"\""
      ]
    },
    {
      "cell_type": "markdown",
      "metadata": {
        "id": "vYOiyOsChYPU"
      },
      "source": [
        "O que você acabou de fazer foi inserir um valor a uma **variável**. Variáveis são valores que podem ser modificados num código de programação. Elas armazenam diversos tipos de informações. E existem vários tipos delas. Vamos ver mais!"
      ]
    },
    {
      "cell_type": "markdown",
      "metadata": {
        "id": "UvDK9tUxh8ia"
      },
      "source": [
        "Vamos exibir seu nome na tela? Para isso, siga esse exemplo:"
      ]
    },
    {
      "cell_type": "code",
      "execution_count": null,
      "metadata": {
        "id": "ln3O6hkRi4qE"
      },
      "outputs": [],
      "source": [
        "nome = \"Evelyn\"\n",
        "print(nome)"
      ]
    },
    {
      "cell_type": "code",
      "execution_count": null,
      "metadata": {
        "id": "kON0MGKBi8R8"
      },
      "outputs": [],
      "source": [
        "# Sua vez! Digite seu nome na linha a seguir:\n",
        "nome = \"\"\n",
        "print(nome)"
      ]
    },
    {
      "cell_type": "markdown",
      "metadata": {
        "id": "6Du9odphh3vz"
      },
      "source": [
        "## Tipos de variáveis"
      ]
    },
    {
      "cell_type": "markdown",
      "metadata": {
        "id": "_WKjPYbzh-YD"
      },
      "source": [
        "O primeiro tipo de variável que vimos é o tipo *string*. String quer dizer cadeia, neste caso, cadeia de caracteres. É o tipo de varíavel que armazena os caracteres que digitamos, as letras. Temos que prestar atenção para escrever o conteúdo da variável do tipo string sempre dentro de aspas!"
      ]
    },
    {
      "cell_type": "code",
      "execution_count": null,
      "metadata": {
        "id": "wvxUxvHRiZKn"
      },
      "outputs": [],
      "source": [
        "nome = \"Evelyn\"\n",
        "sobrenome =  \"Fernandes\""
      ]
    },
    {
      "cell_type": "code",
      "execution_count": null,
      "metadata": {
        "id": "LvkeFejUifMv"
      },
      "outputs": [],
      "source": [
        "# Crie uma variável para armazenar o nome de um amigo seu. Em seguida, use o comando print() para imprimir na tela\n"
      ]
    },
    {
      "cell_type": "markdown",
      "metadata": {
        "id": "iOjGgVqtjI4W"
      },
      "source": [
        "Nosso proxímo tipo a ser estudado é o tipo *int*. Int vem de Integrals, do inglês, integrais, ou números inteiros. São os números inteiros que nós usamos no dia a dia."
      ]
    },
    {
      "cell_type": "code",
      "execution_count": null,
      "metadata": {
        "id": "bgk90LyKjb-C"
      },
      "outputs": [],
      "source": [
        "idade = 25\n",
        "print(idade)"
      ]
    },
    {
      "cell_type": "markdown",
      "metadata": {
        "id": "cwCwlXOEjew5"
      },
      "source": [
        "Repare que dessa vez não usamos letras para definir a idade de uma pessoa, até porque não faz sentido usarmos palavras neste caso."
      ]
    },
    {
      "cell_type": "code",
      "execution_count": null,
      "metadata": {
        "id": "Sb2A_RrBjnSx"
      },
      "outputs": [],
      "source": [
        "# Sua vez! Digite sua idade a seguir e sem seguida use o comando print() para imprimir na tela\n"
      ]
    },
    {
      "cell_type": "markdown",
      "metadata": {
        "id": "9NbSHM0JxURN"
      },
      "source": [
        "Além dos números inteiros, também podemos armazenar números decimais, que são conhecidos como *float* no mundo da programação (flutante, em inglês). Com números decimais, podemos, por exemplo, armazenar o valor de um cookie. Observe o exemplo."
      ]
    },
    {
      "cell_type": "code",
      "execution_count": null,
      "metadata": {
        "id": "6Q98ia0-ycZk"
      },
      "outputs": [],
      "source": [
        "preco_cookie = 7.50"
      ]
    },
    {
      "cell_type": "markdown",
      "metadata": {
        "id": "8BeRajGwyhZO"
      },
      "source": [
        "Repare em duas coisas: primeiro, usamos o underscore (o símbolo `_`) para separar variáveis que tem mais de um nome (vamos falar de nomenclatura já); a segunda é que usamos um ponto `.` ao invés de usarmos vírgula, pois a vírgula não é lida como nós usamos na matemática para os computadores."
      ]
    },
    {
      "cell_type": "code",
      "execution_count": null,
      "metadata": {
        "colab": {
          "base_uri": "https://localhost:8080/"
        },
        "id": "P_gsVijzzOoN",
        "outputId": "f7df7200-5df7-428d-fec5-da8c8a04c80e"
      },
      "outputs": [
        {
          "data": {
            "text/plain": [
              "tuple"
            ]
          },
          "execution_count": 2,
          "metadata": {},
          "output_type": "execute_result"
        }
      ],
      "source": [
        "# Vamos testar algumas coisas? Experimente usar a virgula para escrever o preço do seu lanche favorito e então execute o código:\n",
        "\n",
        "lanche_favorito =\n",
        "type(lanche_favorito)\n",
        "\n",
        "# Opa, apareceu uma mensagem escrito \"tuple\", certo? Significa que seu lanche\n",
        "# não está usando float, mas outro tipo de dados, que não vamos estudar hoje"
      ]
    },
    {
      "cell_type": "code",
      "execution_count": 3,
      "metadata": {
        "colab": {
          "base_uri": "https://localhost:8080/"
        },
        "id": "VGCJNKe6z1Hd",
        "outputId": "23581f49-8fca-4ac0-cc29-df5862869ffa"
      },
      "outputs": [
        {
          "data": {
            "text/plain": [
              "float"
            ]
          },
          "execution_count": 3,
          "metadata": {},
          "output_type": "execute_result"
        }
      ],
      "source": [
        "# Agora sim, escreva corretamente o preço do seu lanche favorito\n",
        "lanche_favorito =\n",
        "type(lanche_favorito)"
      ]
    },
    {
      "cell_type": "markdown",
      "metadata": {
        "id": "3rHOWb9g0BTr"
      },
      "source": [
        "Em seguida, vamos estudar um tipo um pouco diferente. Ele se chama boolean, ou booleano em português. Este tipo de dado é especial, pois ele só aceita dois valores: `True` ou `False`. É como se o tipo booleano armazenasse uma verdade ou uma mentira. Vamos entender mais!\n",
        "\n",
        "\n",
        "\n"
      ]
    },
    {
      "cell_type": "code",
      "execution_count": 6,
      "metadata": {
        "colab": {
          "base_uri": "https://localhost:8080/"
        },
        "id": "iOvkAAA40Xvv",
        "outputId": "8a10ab45-07e6-40ff-beae-9e9f763caa69"
      },
      "outputs": [
        {
          "data": {
            "text/plain": [
              "bool"
            ]
          },
          "execution_count": 6,
          "metadata": {},
          "output_type": "execute_result"
        }
      ],
      "source": [
        "# Este tipo é usado para confirmamos se uma coisa é verdadeira ou falsa, como por exemplo:\n",
        "aula_esta_chata = True\n",
        "type(aula_esta_chata)\n",
        "\n",
        "# Apareceu novamente uma mensagem, desta vez escrito \"bool\", certo?"
      ]
    },
    {
      "cell_type": "code",
      "execution_count": null,
      "metadata": {
        "id": "g37HZSL_054L"
      },
      "outputs": [],
      "source": [
        "# E agora, se eu usar letras minúsculas, meu código vai funcionar? Teste a seguir:\n",
        "\n",
        "esta_nublado ="
      ]
    },
    {
      "cell_type": "markdown",
      "metadata": {
        "id": "z2C_zV6G1DyE"
      },
      "source": [
        "## Nomeando variáveis"
      ]
    },
    {
      "cell_type": "markdown",
      "metadata": {
        "id": "tVeqo0GN1KXd"
      },
      "source": [
        "Como vocês viram, não podemos escrever o conteúdo de qualquer maneira, pois acontecerão erros. Da mesma maneira, devemos ter cuidado em como vamos nomear nossas variáveis. Existem algumas regras importantes que devemos seguir ao nomear variáveis, vamos a elas:\n",
        "\n",
        "\n",
        "1.   Não devemos começar com letra maíscula ou com números\n",
        "2.   Em Python, usamos o \"snake case\", uma maneira de escrever variáveis com dois nomes, como em `lanche_favorito`. Existem outros jeitos de fazer isso, mas vamos adotar este padrão.\n",
        "3.   Não devemos usar acentos do português no nome de variáveis, mas podemos usar no conteudo delas. Exemplo:\n",
        "\n",
        "\n",
        "```\n",
        "nome_aluno = \"João\" # Isso pode\n",
        "está_nublado = True # Isso já não pode\n",
        "```\n",
        "\n",
        "\n",
        "\n"
      ]
    },
    {
      "cell_type": "markdown",
      "metadata": {
        "id": "Lf6iQJMm2Kxd"
      },
      "source": [
        "# Entrada e saída de dados"
      ]
    },
    {
      "cell_type": "markdown",
      "metadata": {
        "id": "rl_-TrZl2OyG"
      },
      "source": [
        "Bem, vimos já alguns tipos de variáveis para nos aprofundarmos mais no estudo de programação. Você já viu que algumas vezes aparecem algumas informações quando clicamos no botão de executar aqui do Google Colab. Vamos estudar mais um pouco sobre isso?"
      ]
    },
    {
      "cell_type": "code",
      "execution_count": null,
      "metadata": {
        "id": "Oh4ZEtE23VPL"
      },
      "outputs": [],
      "source": [
        "# Escreva a mensagem que quer exibir:\n",
        "\n",
        "mensagem =\n",
        "print(mensagem)"
      ]
    },
    {
      "cell_type": "markdown",
      "metadata": {
        "id": "3fQUXfZd3dY9"
      },
      "source": [
        "Você acaba de \"imprimir\" uma mensagem na tela do console de desenvolvimento. Essas mensagens servem para nós desenvolvedores testarmos funcionalidades e também para praticarmos programação, como você está fazendo agora. Além disso, podemos pedir para um usuário digitar uma informação e esta ser armazenada em uma variável. Para isso, devemos usar uma ferramenta, a função `input()` Vamos ver?"
      ]
    },
    {
      "cell_type": "code",
      "execution_count": 7,
      "metadata": {
        "colab": {
          "base_uri": "https://localhost:8080/"
        },
        "id": "Ah8JwH9G3dE6",
        "outputId": "c8dcd8dd-2c90-4a7f-b2aa-6d07eb07ade7"
      },
      "outputs": [
        {
          "name": "stdout",
          "output_type": "stream",
          "text": [
            "Digite seu nome: Evelyn\n"
          ]
        }
      ],
      "source": [
        "nome_aluno = input(\"Digite seu nome: \")"
      ]
    },
    {
      "cell_type": "markdown",
      "metadata": {
        "id": "DOBy42G64SGN"
      },
      "source": [
        "Tá, mas só isso? Bem, nós apenas armazenamos a informação na variável, ainda não exibimos no console. Input quer dizer \"entrada\", ou seja, apenas algo que inserimos. Para exibir, usamos o `print()`, que quer dizer \"imprimir\". Execute o código a seguir."
      ]
    },
    {
      "cell_type": "code",
      "execution_count": 8,
      "metadata": {
        "colab": {
          "base_uri": "https://localhost:8080/"
        },
        "id": "oznTZTeE4QzM",
        "outputId": "7ca653c6-506c-463c-afa4-e913772224da"
      },
      "outputs": [
        {
          "name": "stdout",
          "output_type": "stream",
          "text": [
            "Evelyn\n"
          ]
        }
      ],
      "source": [
        "print(nome_aluno)"
      ]
    },
    {
      "cell_type": "markdown",
      "metadata": {
        "id": "74YXwfJk5D07"
      },
      "source": [
        "Mas, quando queremos inserir outros tipos de dados que não são caracteres(strings), devemos usar uma nomenclatura antes do comando `input()` Se não fizermos isso, o computador entenderá que, mesmo que digite um número, ele será lido como caractere. Vamos testar?"
      ]
    },
    {
      "cell_type": "code",
      "execution_count": 11,
      "metadata": {
        "colab": {
          "base_uri": "https://localhost:8080/"
        },
        "id": "hO43eSd85jiu",
        "outputId": "6d03f261-a0e9-4296-a938-2ff70edabb22"
      },
      "outputs": [
        {
          "name": "stdout",
          "output_type": "stream",
          "text": [
            "Escreva o ano de ingresso do(a) estudante: 100\n",
            "Escreva o ano de ingresso do(a) estudante: 22\n"
          ]
        },
        {
          "data": {
            "text/plain": [
              "str"
            ]
          },
          "execution_count": 11,
          "metadata": {},
          "output_type": "execute_result"
        }
      ],
      "source": [
        "ano_entrada = int(input('Escreva o ano de ingresso do(a) estudante: '))\n",
        "type(ano_entrada)"
      ]
    },
    {
      "cell_type": "code",
      "execution_count": 12,
      "metadata": {
        "colab": {
          "base_uri": "https://localhost:8080/"
        },
        "id": "gcZ-Dj_w51qQ",
        "outputId": "27742feb-1085-45b9-ecda-19bc5eb6dae0"
      },
      "outputs": [
        {
          "name": "stdout",
          "output_type": "stream",
          "text": [
            "Escreva o ano de ingresso do(a) estudante: 22\n"
          ]
        },
        {
          "data": {
            "text/plain": [
              "str"
            ]
          },
          "execution_count": 12,
          "metadata": {},
          "output_type": "execute_result"
        }
      ],
      "source": [
        "#E se não escrevermos int() antes?\n",
        "ano_entrada = input('Escreva o ano de ingresso do(a) estudante: ')\n",
        "type(ano_entrada)"
      ]
    },
    {
      "cell_type": "markdown",
      "metadata": {
        "id": "3DjkBndZ56ir"
      },
      "source": [
        "Viu só? O Python entendeu que você está usando strings ao invés de inteiros e isso pode te dar uma dor de cabeça se quiser continuar estudando programação. Então precisamos nos atentar a este detalhe. A mesma coisa se quisermos perguntar que nota o amigo tirou na prova de matemática e esse valor é um número decimal. Execute o código a seguir:"
      ]
    },
    {
      "cell_type": "code",
      "execution_count": 13,
      "metadata": {
        "colab": {
          "base_uri": "https://localhost:8080/"
        },
        "id": "eu8oEfqB-Oxy",
        "outputId": "9c723937-8454-4f55-b9c9-a4d684df346d"
      },
      "outputs": [
        {
          "name": "stdout",
          "output_type": "stream",
          "text": [
            "Qual foi sua nota na prova de matemática?4.5\n",
            "4.5\n"
          ]
        }
      ],
      "source": [
        "nota_matematica = float(input(\"Qual foi sua nota na prova de matemática?\"))\n",
        "print(nota_matematica)"
      ]
    },
    {
      "cell_type": "markdown",
      "metadata": {
        "id": "5d2EXMZz-314"
      },
      "source": [
        "Beleza, mas apenas imprimir valores ou uma palavra é meio sem graça, certo? E se pudermos, em linguagem de programador, manipular os dados? Vamos ver este exemplo."
      ]
    },
    {
      "cell_type": "code",
      "execution_count": 14,
      "metadata": {
        "colab": {
          "base_uri": "https://localhost:8080/"
        },
        "id": "C0uEI2gL_CyC",
        "outputId": "afb6c01d-b88b-4d6f-f3b9-c90fd44184f7"
      },
      "outputs": [
        {
          "name": "stdout",
          "output_type": "stream",
          "text": [
            "Digite seu nome: Evelyn\n",
            "Qual foi sua nota na prova de matemática?50.5\n",
            "Evelyn tirou 50.5 na prova de matemática\n"
          ]
        }
      ],
      "source": [
        "nome_aluno = input(\"Digite seu nome: \")\n",
        "nota_matematica = float(input(\"Qual foi sua nota na prova de matemática?\"))\n",
        "\n",
        "print(f'{nome_aluno} tirou {nota_matematica} na prova de matemática')"
      ]
    },
    {
      "cell_type": "markdown",
      "metadata": {
        "id": "X51Swp9M_bEW"
      },
      "source": [
        "Opa, vamos com calma. Primeiro pegamos os dados de nome e nota do aluno e depois exibimos na tela usando uma formatação especial do Python para mensagens no console.\n",
        "\n",
        "\n",
        "```\n",
        "# Fazemos assim:\n",
        "print(f'')\n",
        "\n",
        "# Primeiro escrevemos f e em seguida usamos aspas simples ''\n",
        "\n",
        "print(f'{nome_aluno} é muito bonito')\n",
        "\n",
        "# Depois, usamos as chaves {} para escrever a variável que desejamos imprimir\n",
        "```\n",
        "\n"
      ]
    },
    {
      "cell_type": "markdown",
      "metadata": {
        "id": "aXe31VwV_-qE"
      },
      "source": [
        "Agora é com vocês. Escrevam um código que vai pedir para um usuário dizer o nome e a idade. Em seguida, imprimam essa informação na tela."
      ]
    },
    {
      "cell_type": "code",
      "execution_count": null,
      "metadata": {
        "id": "r0vOz6OdAKht"
      },
      "outputs": [],
      "source": []
    },
    {
      "cell_type": "markdown",
      "metadata": {
        "id": "Le8YqMN9APB9"
      },
      "source": [
        "# Operadores matemáticos"
      ]
    },
    {
      "cell_type": "markdown",
      "metadata": {
        "id": "izeE6vm7AR6F"
      },
      "source": [
        "Nós também podemos usar as quatro operações básicas da matemática na programação. Na verdade, elas são bem úteis! Vamos ver!"
      ]
    },
    {
      "cell_type": "code",
      "execution_count": 15,
      "metadata": {
        "colab": {
          "base_uri": "https://localhost:8080/"
        },
        "id": "1TsiHHq6AZ_e",
        "outputId": "90229c0e-0406-4ec4-9b5a-65ae98e281a8"
      },
      "outputs": [
        {
          "name": "stdout",
          "output_type": "stream",
          "text": [
            "15\n"
          ]
        }
      ],
      "source": [
        "primeiro_numero = 5\n",
        "segundo_numero = 10\n",
        "\n",
        "print(primeiro_numero + segundo_numero)"
      ]
    },
    {
      "cell_type": "markdown",
      "metadata": {
        "id": "g_wGze_aAj5J"
      },
      "source": [
        "Opa, viu só? O Python fez a soma de duas variáveis, usando o operador `+`. Vamos ver mais exemplos?"
      ]
    },
    {
      "cell_type": "code",
      "execution_count": 19,
      "metadata": {
        "colab": {
          "base_uri": "https://localhost:8080/"
        },
        "id": "vPzrqTRUAiPe",
        "outputId": "df823689-a1ec-4e6c-abb4-8a07a3561131"
      },
      "outputs": [
        {
          "name": "stdout",
          "output_type": "stream",
          "text": [
            "15\n"
          ]
        }
      ],
      "source": [
        "primeiro_numero = 25\n",
        "segundo_numero = 10\n",
        "\n",
        "print(primeiro_numero - segundo_numero)"
      ]
    },
    {
      "cell_type": "code",
      "execution_count": 18,
      "metadata": {
        "colab": {
          "base_uri": "https://localhost:8080/"
        },
        "id": "ZDRsjThxBwmb",
        "outputId": "5d6ffb39-bc38-494d-d2d4-f6edba3ae430"
      },
      "outputs": [
        {
          "name": "stdout",
          "output_type": "stream",
          "text": [
            "250\n"
          ]
        }
      ],
      "source": [
        "primeiro_numero = 25\n",
        "segundo_numero = 10\n",
        "\n",
        "print(primeiro_numero * segundo_numero)"
      ]
    },
    {
      "cell_type": "code",
      "execution_count": 17,
      "metadata": {
        "colab": {
          "base_uri": "https://localhost:8080/"
        },
        "id": "p2d4LFH0BzjM",
        "outputId": "8498416b-e9b6-48ba-e597-8e8e0c8ecfaf"
      },
      "outputs": [
        {
          "name": "stdout",
          "output_type": "stream",
          "text": [
            "2.5\n"
          ]
        }
      ],
      "source": [
        "primeiro_numero = 25\n",
        "segundo_numero = 10\n",
        "\n",
        "print(primeiro_numero / segundo_numero)"
      ]
    },
    {
      "cell_type": "markdown",
      "metadata": {
        "id": "LcQisrYdB3jN"
      },
      "source": [
        "Com isso, podemos agora realizar as operações básicas da matemática nos nossos códigos! Quem dera se a gente pudesse ter um programinha desses na hora da prova né? 👀"
      ]
    },
    {
      "cell_type": "code",
      "execution_count": null,
      "metadata": {
        "id": "A04prwebCywS"
      },
      "outputs": [],
      "source": [
        "# Agora é com você! Faça um código que pegue dois números e exiba o resultado\n",
        "# com a mensagem: A conta deu {valor}\n",
        "\n",
        "numero_1 =\n",
        "numero_2 ="
      ]
    },
    {
      "cell_type": "markdown",
      "metadata": {
        "id": "IK5y6-ExDPkZ"
      },
      "source": [
        "# Operadores lógicos"
      ]
    },
    {
      "cell_type": "markdown",
      "metadata": {
        "id": "fA2V4tXwDYqz"
      },
      "source": [
        "Existem outros operadores além dos matemáticos. Chamamos eles de operadores lógicos ou de comparação, que nos permitem verificar igualdades ou diferenças. Eles são:\n",
        "\n",
        "```\n",
        "# >     // Maior que\n",
        "# <     // Menor que\n",
        "# ==    // É o sinal de \"é realmente igual\"\n",
        "# <=    // Menor ou igual que\n",
        "# >=    // Maior ou igual que\n",
        "```\n",
        "\n"
      ]
    },
    {
      "cell_type": "markdown",
      "metadata": {
        "id": "X8u8X7hnDzI5"
      },
      "source": [
        "Certo, mas onde vamos usar eles? Usamos para fazer comparações entre variáveis ou para fazer escolha. Às vezes, você precisa saber se sua nota na escola foi maior que 6.0 para passar, certo? E se não for, será que você ficou de recuperação? Ou então você tirou exatamente 6.0 e passou raspando."
      ]
    },
    {
      "cell_type": "markdown",
      "metadata": {
        "id": "QohlF4msFzOy"
      },
      "source": [
        "# Estruturas de controle"
      ]
    },
    {
      "cell_type": "markdown",
      "metadata": {
        "id": "0NW3bvHIF4nS"
      },
      "source": [
        "Como estávamos dizendo, às vezes precisamos tomar decisões, escolher possibilidades. Na programação, usamos as estruturas de comando, neste caso a estrutura `if/else`. Essa estrutura serve para tomarmos decisões a partir de uma comparação entre valores, usando os operadores lógicos. Vamos ao código"
      ]
    },
    {
      "cell_type": "code",
      "execution_count": null,
      "metadata": {
        "id": "qOtMmjYZGS3e"
      },
      "outputs": [],
      "source": [
        "if(condição):\n",
        "  # executa um código"
      ]
    },
    {
      "cell_type": "markdown",
      "metadata": {
        "id": "AsB9ztr4GXKr"
      },
      "source": [
        "If quer dizer \"se\", do inglês. Abrimos parênteses para escrever nossa condição, usamos dois pontos(`:`) e damos enter, a tecla no seu teclado.\n",
        "Depois, escrevemos nossa condição. Vamos ver um exemplo prático:"
      ]
    },
    {
      "cell_type": "code",
      "execution_count": 20,
      "metadata": {
        "colab": {
          "base_uri": "https://localhost:8080/"
        },
        "id": "1dw-Fyj-GrEa",
        "outputId": "330559db-66bb-415f-b59f-da4580fc872b"
      },
      "outputs": [
        {
          "name": "stdout",
          "output_type": "stream",
          "text": [
            "Reprovado\n"
          ]
        }
      ],
      "source": [
        "nota = 50\n",
        "\n",
        "if(nota < 60):\n",
        "  print(\"Reprovado\")"
      ]
    },
    {
      "cell_type": "markdown",
      "metadata": {
        "id": "bz3PVKJFG0y8"
      },
      "source": [
        "Como podemos ver, o aluno tirou nota menor que 60, logo ele entrou nessa condição que escrevemos. Execute o código a seguir"
      ]
    },
    {
      "cell_type": "code",
      "execution_count": 21,
      "metadata": {
        "id": "4pXfuEAAG9Ve"
      },
      "outputs": [],
      "source": [
        "nota = 60\n",
        "\n",
        "if(nota < 60):\n",
        "  print(\"Reprovado\")"
      ]
    },
    {
      "cell_type": "markdown",
      "metadata": {
        "id": "R-KtEiyKG-81"
      },
      "source": [
        "Não aconteceu nada desta vez, certo? Foi porque desta vez fizemos uma condição verdadeira, que neste caso, não resulta em nada na nossa tela. Vamos escrever então, um \"senão\"?"
      ]
    },
    {
      "cell_type": "code",
      "execution_count": 22,
      "metadata": {
        "colab": {
          "base_uri": "https://localhost:8080/"
        },
        "id": "CPSL93usHNPg",
        "outputId": "64f7d1ef-2c4a-4d9c-8430-95e968707497"
      },
      "outputs": [
        {
          "name": "stdout",
          "output_type": "stream",
          "text": [
            "Aprovado\n"
          ]
        }
      ],
      "source": [
        "nota = 60\n",
        "\n",
        "if(nota < 60):\n",
        "  print(\"Reprovado\")\n",
        "else:\n",
        "  print(\"Aprovado\")"
      ]
    },
    {
      "cell_type": "markdown",
      "metadata": {
        "id": "VNtl5RROHeEZ"
      },
      "source": [
        "O `else` é usado para quando queremos dar mais uma opção para nossa condição, para nosso usuário ter duas respostas. Mas se quisermos usar várias opções, digamos, elogiar o amigo que tirou nota bem alta? Usaremos o `elif`. Pense que ele serve para dar mais opções ao nosso código. Vamos ao código:\n"
      ]
    },
    {
      "cell_type": "code",
      "execution_count": 23,
      "metadata": {
        "colab": {
          "base_uri": "https://localhost:8080/"
        },
        "id": "5ItR8Z5RHza1",
        "outputId": "8207f670-c1c7-46bd-ec54-0f7168ee8ae9"
      },
      "outputs": [
        {
          "name": "stdout",
          "output_type": "stream",
          "text": [
            "Aprovado\n"
          ]
        }
      ],
      "source": [
        "# Teste outros resultados na variável para obter diferentes combinações. Use números inteiros\n",
        "\n",
        "nota = 70\n",
        "\n",
        "if(nota < 60):\n",
        "  print(\"Nossa, você não passou\")\n",
        "elif(nota > 80):\n",
        "  print(\"Caraca, você tirou um notão!\")\n",
        "elif(nota == 100):\n",
        "  print(\"Mano, você gabaritou\")\n",
        "else:\n",
        "  print(\"Aprovado\")"
      ]
    },
    {
      "cell_type": "markdown",
      "metadata": {
        "id": "oHDMklgKIqxj"
      },
      "source": [
        "# Projeto final"
      ]
    },
    {
      "cell_type": "markdown",
      "metadata": {
        "id": "O1Btbrp8Is2l"
      },
      "source": [
        "Esse é o nosso projeto final, onde usaremos tudo que estudamos até aqui para fazer um código de programação bem legal.\n",
        "\n",
        "O que você acha de montarmos uma lanchonete que vende hambúrguer, pizza e cachorro quente? Além disso vamos também dizer o preço de cada item e dar o valor para o cliente.\n",
        "\n",
        "Como vai funcionar? Primeiro vamos definir as variáveis dos lanches com seus preços, por exemplo:\n",
        "\n",
        "\n",
        "```\n",
        "hamburguer = 13.50\n",
        "fatia_pizza = 7.00\n",
        "cachorro_quente = 6.50\n",
        "```\n",
        "Depois, vamos pedir ao usuário fazer o pedido, usando a função `input()`. Exemplo:\n",
        "\n",
        "\n",
        "```\n",
        "pedido_cliente = input(\"Boa noite, o que gostaria de comer? \")\n",
        "```\n",
        "\n",
        "Em seguida vamos fazer uma condição para nosso código escolher entre os pedidos usando `if` e `else`. Exemplo:\n",
        "\n",
        "```\n",
        "if(pedido == \"hamburguer\"):\n",
        " print(\"Seu pedido custa R${hamburguer}\")\n",
        "elif(pedido == \"pizza\"):\n",
        "  print(\"Seu pedido custa R${fatia_pizza}\")\n",
        "elif(pedido == \"cachorro quente\"):\n",
        "  print(\"Seu pedido custa R${cachorro_quente})\n",
        "```\n",
        "\n"
      ]
    },
    {
      "cell_type": "code",
      "execution_count": null,
      "metadata": {
        "colab": {
          "base_uri": "https://localhost:8080/"
        },
        "id": "JkEZF9c9MAma",
        "outputId": "beeefdc3-16b6-4dd5-fc14-24e48db8956f"
      },
      "outputs": [
        {
          "name": "stdout",
          "output_type": "stream",
          "text": [
            "--------------- Bem vindo a Lanchonete Poucas Coisas------------------------\n",
            "Servimos muita comida gostosa!!\n",
            "----------------------------------------\n",
            "----------------------------------------\n",
            "Boa noite, o que gostaria de comer? pu\n"
          ]
        }
      ],
      "source": [
        "#Exemplo meu\n",
        "hamburguer = 13.50\n",
        "fatia_pizza = 7.00\n",
        "cachorro_quente = 6.50\n",
        "\n",
        "print(\"--------------- Bem vindo a Lanchonete Poucas Coisas------------------------\")\n",
        "print(\"Servimos muita comida gostosa!!\")\n",
        "print(\"----------------------------------------\")\n",
        "print(\"----------------------------------------\")\n",
        "\n",
        "pedido = input(\"Boa noite, o que gostaria de comer? \")\n",
        "\n",
        "if(pedido == \"hamburguer\"):\n",
        " print(f'Seu pedido custa R${hamburguer}')\n",
        "elif(pedido == \"pizza\"):\n",
        "  print(f'Seu pedido custa R${fatia_pizza}')\n",
        "elif(pedido == \"cachorro quente\"):\n",
        "  print(f'Seu pedido custa R${cachorro_quente}')\n",
        "else:\n",
        "  print(\"Pedido inválido, acho que não digitou corretamente!\")"
      ]
    }
  ],
  "metadata": {
    "colab": {
      "authorship_tag": "ABX9TyOqLAcGGagZAaYC37b3fWwI",
      "include_colab_link": true,
      "provenance": []
    },
    "kernelspec": {
      "display_name": "Python 3",
      "name": "python3"
    },
    "language_info": {
      "name": "python",
      "version": "3.12.3"
    }
  },
  "nbformat": 4,
  "nbformat_minor": 0
}
