{
  "nbformat": 4,
  "nbformat_minor": 0,
  "metadata": {
    "colab": {
      "provenance": [],
      "authorship_tag": "ABX9TyP7R1M0wrhqJNLOB2eEsA2I",
      "include_colab_link": true
    },
    "kernelspec": {
      "name": "python3",
      "display_name": "Python 3"
    },
    "language_info": {
      "name": "python"
    }
  },
  "cells": [
    {
      "cell_type": "markdown",
      "metadata": {
        "id": "view-in-github",
        "colab_type": "text"
      },
      "source": [
        "<a href=\"https://colab.research.google.com/github/yoruwitch/pythonForKids/blob/main/Aul%C3%A3o_de_programa%C3%A7%C3%A3o.ipynb\" target=\"_parent\"><img src=\"https://colab.research.google.com/assets/colab-badge.svg\" alt=\"Open In Colab\"/></a>"
      ]
    },
    {
      "cell_type": "markdown",
      "source": [
        "# Os primeiros passos da programação"
      ],
      "metadata": {
        "id": "aJP0N4DNhA2A"
      }
    },
    {
      "cell_type": "markdown",
      "source": [
        "Vamos começar os primeiros passos com a linguagem Python. Após o sinal de igual, digite seu nome dentro das aspas."
      ],
      "metadata": {
        "id": "VBBE3xh3hJXk"
      }
    },
    {
      "cell_type": "code",
      "execution_count": null,
      "metadata": {
        "id": "vlYTZMJ--_Rs"
      },
      "outputs": [],
      "source": [
        "nome = \"\""
      ]
    },
    {
      "cell_type": "markdown",
      "source": [
        "O que você acabou de fazer foi inserir um valor a uma **variável**. Variáveis são valores que podem ser modificados num código de programação. Elas armazenam diversos tipos de informações. E existem vários tipos delas. Vamos ver mais!"
      ],
      "metadata": {
        "id": "vYOiyOsChYPU"
      }
    },
    {
      "cell_type": "markdown",
      "source": [
        "Vamos exibir seu nome na tela? Para isso, siga esse exemplo:"
      ],
      "metadata": {
        "id": "UvDK9tUxh8ia"
      }
    },
    {
      "cell_type": "code",
      "source": [
        "nome = \"Evelyn\"\n",
        "print(nome)"
      ],
      "metadata": {
        "id": "ln3O6hkRi4qE"
      },
      "execution_count": null,
      "outputs": []
    },
    {
      "cell_type": "code",
      "source": [
        "# Sua vez! Digite seu nome na linha a seguir:\n",
        "nome = \"\"\n",
        "print(nome)"
      ],
      "metadata": {
        "id": "kON0MGKBi8R8"
      },
      "execution_count": null,
      "outputs": []
    },
    {
      "cell_type": "markdown",
      "source": [
        "## Tipos de variáveis"
      ],
      "metadata": {
        "id": "6Du9odphh3vz"
      }
    },
    {
      "cell_type": "markdown",
      "source": [
        "O primeiro tipo de variável que vimos é o tipo *string*. String quer dizer cadeia, neste caso, cadeia de caracteres. É o tipo de varíavel que armazena os caracteres que digitamos, as letras. Temos que prestar atenção para escrever o conteúdo da variável do tipo string sempre dentro de aspas!"
      ],
      "metadata": {
        "id": "_WKjPYbzh-YD"
      }
    },
    {
      "cell_type": "code",
      "source": [
        "nome = \"Evelyn\"\n",
        "sobrenome =  \"Fernandes\""
      ],
      "metadata": {
        "id": "wvxUxvHRiZKn"
      },
      "execution_count": null,
      "outputs": []
    },
    {
      "cell_type": "code",
      "source": [
        "# Crie uma variável para armazenar o nome de um amigo seu. Em seguida, use o comando print() para imprimir na tela\n"
      ],
      "metadata": {
        "id": "LvkeFejUifMv"
      },
      "execution_count": null,
      "outputs": []
    },
    {
      "cell_type": "markdown",
      "source": [
        "Nosso proxímo tipo a ser estudado é o tipo *int*. Int vem de Integrals, do inglês, integrais, ou números inteiros. São os números inteiros que nós usamos no dia a dia."
      ],
      "metadata": {
        "id": "iOjGgVqtjI4W"
      }
    },
    {
      "cell_type": "code",
      "source": [
        "idade = 25\n",
        "print(25)"
      ],
      "metadata": {
        "id": "bgk90LyKjb-C"
      },
      "execution_count": null,
      "outputs": []
    },
    {
      "cell_type": "markdown",
      "source": [
        "Repare que dessa vez não usamos letras para definir a idade de uma pessoa, até porque não faz sentido usarmos palavras neste caso."
      ],
      "metadata": {
        "id": "cwCwlXOEjew5"
      }
    },
    {
      "cell_type": "code",
      "source": [
        "# Sua vez! Digite sua idade a seguir e sem seguida use o comando print() para imprimir na tela\n"
      ],
      "metadata": {
        "id": "Sb2A_RrBjnSx"
      },
      "execution_count": null,
      "outputs": []
    }
  ]
}